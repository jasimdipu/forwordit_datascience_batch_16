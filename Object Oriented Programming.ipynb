{
 "cells": [
  {
   "cell_type": "code",
   "execution_count": 16,
   "id": "0f43cb3f",
   "metadata": {},
   "outputs": [],
   "source": [
    "### Class -> object blue print\n",
    "class Student:\n",
    "    # attr(variable/scope/instance), functions(custom, builtin)\n",
    "    # attr\n",
    "    stuname = \"\"\n",
    "    studept = \"\"\n",
    "    \n",
    "    # function\n",
    "    # Constructor\n",
    "    def __init__(self):\n",
    "        pass\n",
    "    \n",
    "    def getstuname(self):\n",
    "        return self.stuname\n",
    "    \n",
    "    def getstudept(self):\n",
    "        return self.studept\n",
    "    \n",
    "    def __str__(self):\n",
    "        return self.stuname+\" \"+self.studept"
   ]
  },
  {
   "cell_type": "code",
   "execution_count": 17,
   "id": "f056fc93",
   "metadata": {},
   "outputs": [],
   "source": [
    "# how to create an object\n",
    "student = Student()"
   ]
  },
  {
   "cell_type": "code",
   "execution_count": 19,
   "id": "de9a50f6",
   "metadata": {},
   "outputs": [],
   "source": [
    "student.stuname = \"Tamim shikder\""
   ]
  },
  {
   "cell_type": "code",
   "execution_count": 20,
   "id": "e79f7118",
   "metadata": {},
   "outputs": [
    {
     "data": {
      "text/plain": [
       "'Tamim shikder'"
      ]
     },
     "execution_count": 20,
     "metadata": {},
     "output_type": "execute_result"
    }
   ],
   "source": [
    "student.stuname"
   ]
  },
  {
   "cell_type": "code",
   "execution_count": 21,
   "id": "31d4f0c1",
   "metadata": {},
   "outputs": [],
   "source": [
    "student.studept=\"CSE\""
   ]
  },
  {
   "cell_type": "code",
   "execution_count": 22,
   "id": "e40214ea",
   "metadata": {},
   "outputs": [
    {
     "data": {
      "text/plain": [
       "'CSE'"
      ]
     },
     "execution_count": 22,
     "metadata": {},
     "output_type": "execute_result"
    }
   ],
   "source": [
    "student.studept"
   ]
  },
  {
   "cell_type": "code",
   "execution_count": 23,
   "id": "c15684e1",
   "metadata": {},
   "outputs": [
    {
     "data": {
      "text/plain": [
       "'Tamim shikder'"
      ]
     },
     "execution_count": 23,
     "metadata": {},
     "output_type": "execute_result"
    }
   ],
   "source": [
    "student.getstuname()"
   ]
  },
  {
   "cell_type": "code",
   "execution_count": 24,
   "id": "85c01e16",
   "metadata": {},
   "outputs": [
    {
     "data": {
      "text/plain": [
       "'CSE'"
      ]
     },
     "execution_count": 24,
     "metadata": {},
     "output_type": "execute_result"
    }
   ],
   "source": [
    "student.getstudept()"
   ]
  },
  {
   "cell_type": "code",
   "execution_count": 25,
   "id": "f6211cc7",
   "metadata": {},
   "outputs": [
    {
     "name": "stdout",
     "output_type": "stream",
     "text": [
      "Tamim shikder CSE\n"
     ]
    }
   ],
   "source": [
    "print(student)"
   ]
  },
  {
   "cell_type": "code",
   "execution_count": null,
   "id": "84a04e41",
   "metadata": {},
   "outputs": [],
   "source": []
  }
 ],
 "metadata": {
  "kernelspec": {
   "display_name": "Python 3 (ipykernel)",
   "language": "python",
   "name": "python3"
  },
  "language_info": {
   "codemirror_mode": {
    "name": "ipython",
    "version": 3
   },
   "file_extension": ".py",
   "mimetype": "text/x-python",
   "name": "python",
   "nbconvert_exporter": "python",
   "pygments_lexer": "ipython3",
   "version": "3.9.7"
  }
 },
 "nbformat": 4,
 "nbformat_minor": 5
}
