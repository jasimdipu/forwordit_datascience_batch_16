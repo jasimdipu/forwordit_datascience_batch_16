{
 "cells": [
  {
   "cell_type": "code",
   "execution_count": 7,
   "id": "6d86a5b9",
   "metadata": {},
   "outputs": [
    {
     "name": "stdout",
     "output_type": "stream",
     "text": [
      "30 found\n"
     ]
    }
   ],
   "source": [
    "l = [10, 20, 30, 40]\n",
    "n = 30\n",
    "for i in l:\n",
    "    if i == n:\n",
    "        print(\"{} found\".format(n))\n",
    "        break\n",
    "else:\n",
    "    print(\"not found\")"
   ]
  },
  {
   "cell_type": "code",
   "execution_count": 9,
   "id": "76d90807",
   "metadata": {},
   "outputs": [],
   "source": [
    "def number_search(n):\n",
    "    \n",
    "    l = [10, 20, 30, 40]\n",
    "    for i in l:\n",
    "        if i == n:\n",
    "            print(\"{} found\".format(n))\n",
    "            break\n",
    "    else:\n",
    "        print(\"not found\")"
   ]
  },
  {
   "cell_type": "code",
   "execution_count": 10,
   "id": "1d117ec1",
   "metadata": {},
   "outputs": [
    {
     "name": "stdout",
     "output_type": "stream",
     "text": [
      "30 found\n"
     ]
    }
   ],
   "source": [
    "number_search()"
   ]
  },
  {
   "cell_type": "code",
   "execution_count": null,
   "id": "0f35887f",
   "metadata": {},
   "outputs": [],
   "source": []
  }
 ],
 "metadata": {
  "kernelspec": {
   "display_name": "Python 3 (ipykernel)",
   "language": "python",
   "name": "python3"
  },
  "language_info": {
   "codemirror_mode": {
    "name": "ipython",
    "version": 3
   },
   "file_extension": ".py",
   "mimetype": "text/x-python",
   "name": "python",
   "nbconvert_exporter": "python",
   "pygments_lexer": "ipython3",
   "version": "3.9.7"
  }
 },
 "nbformat": 4,
 "nbformat_minor": 5
}
