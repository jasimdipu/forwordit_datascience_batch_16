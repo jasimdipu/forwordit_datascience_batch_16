{
 "cells": [
  {
   "cell_type": "markdown",
   "id": "b9db55cd",
   "metadata": {},
   "source": [
    "# MySql"
   ]
  },
  {
   "cell_type": "code",
   "execution_count": 1,
   "id": "3040719c",
   "metadata": {},
   "outputs": [],
   "source": [
    "# !pip install mysqlclient\n",
    "# !pip install mysql-connector-python"
   ]
  },
  {
   "cell_type": "code",
   "execution_count": 2,
   "id": "5d9193b6",
   "metadata": {},
   "outputs": [],
   "source": [
    "import mysql.connector as conn"
   ]
  },
  {
   "cell_type": "code",
   "execution_count": 3,
   "id": "5904b138",
   "metadata": {},
   "outputs": [
    {
     "data": {
      "text/plain": [
       "<mysql.connector.connection_cext.CMySQLConnection at 0x1c0766b0610>"
      ]
     },
     "execution_count": 3,
     "metadata": {},
     "output_type": "execute_result"
    }
   ],
   "source": [
    "# test mysql connection\n",
    "db = conn.connect(host=\"localhost\", user=\"root\", password=\"\")\n",
    "db"
   ]
  },
  {
   "cell_type": "code",
   "execution_count": null,
   "id": "0b5e5ba2",
   "metadata": {},
   "outputs": [],
   "source": [
    "class DBOperation():\n",
    "    \n",
    "    def __init__(self):\n",
    "        pass\n",
    "    \n",
    "    def __db_conn(self, host=\"localhost\", user=\"root\", password=\"\", db_name=\"\"):\n",
    "        \n",
    "        if db_name == \"\":\n",
    "            db = conn.connect(host=\"localhost\", user=\"root\", password=\"\")\n",
    "            return db\n",
    "        \n",
    "        \n",
    "        "
   ]
  }
 ],
 "metadata": {
  "kernelspec": {
   "display_name": "Python 3 (ipykernel)",
   "language": "python",
   "name": "python3"
  },
  "language_info": {
   "codemirror_mode": {
    "name": "ipython",
    "version": 3
   },
   "file_extension": ".py",
   "mimetype": "text/x-python",
   "name": "python",
   "nbconvert_exporter": "python",
   "pygments_lexer": "ipython3",
   "version": "3.9.7"
  }
 },
 "nbformat": 4,
 "nbformat_minor": 5
}
