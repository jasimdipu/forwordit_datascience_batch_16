{
 "cells": [
  {
   "cell_type": "markdown",
   "id": "1333e65f",
   "metadata": {},
   "source": [
    "# MySql"
   ]
  },
  {
   "cell_type": "code",
   "execution_count": 1,
   "id": "8b2e912b",
   "metadata": {},
   "outputs": [],
   "source": [
    "# !pip install mysqlclient\n",
    "# !pip install mysql-connector-python"
   ]
  },
  {
   "cell_type": "code",
   "execution_count": 2,
   "id": "52ea5a1a",
   "metadata": {},
   "outputs": [],
   "source": [
    "import mysql.connector as conn"
   ]
  },
  {
   "cell_type": "code",
   "execution_count": 3,
   "id": "f3b67110",
   "metadata": {},
   "outputs": [
    {
     "data": {
      "text/plain": [
       "<mysql.connector.connection_cext.CMySQLConnection at 0x1c0766b0610>"
      ]
     },
     "execution_count": 3,
     "metadata": {},
     "output_type": "execute_result"
    }
   ],
   "source": [
    "# test mysql connection\n",
    "db = conn.connect(host=\"localhost\", user=\"root\", password=\"\")\n",
    "db"
   ]
  },
  {
   "cell_type": "code",
   "execution_count": 51,
   "id": "601a4981",
   "metadata": {},
   "outputs": [],
   "source": [
    "class DBOperation():\n",
    "    \n",
    "    def __init__(self):\n",
    "        pass\n",
    "    \n",
    "    def __db_conn(self, host=\"localhost\", user=\"root\", password=\"\", db_name=\"\"):\n",
    "        try:\n",
    "            if db_name != \"\":\n",
    "                db = conn.connect(host=host, user=user, password=password, database=db_name)\n",
    "                return db\n",
    "            else:\n",
    "                db = conn.connect(host=host, user=user, password=password)\n",
    "                return db\n",
    "        except Exception as e:\n",
    "            print(e, \"Database Connection error\")\n",
    "            \n",
    "    \n",
    "    def create_database(self, db_name):\n",
    "        try:\n",
    "            db = self.__db_conn()\n",
    "            \n",
    "            sql = \"CREATE DATABASE {}\".format(db_name)\n",
    "            \n",
    "            cursor = db.cursor()\n",
    "            cursor.execute(sql)\n",
    "            cursor.close()\n",
    "            db.close()\n",
    "            print(\"Database created successfully\")\n",
    "        except Exception as e:\n",
    "            print(e, \"exception raise when create a database\")\n",
    "    \n",
    "    def show_databases(self):\n",
    "        \n",
    "        try:\n",
    "            db = self.__db_conn()\n",
    "            \n",
    "            sql = \"SHOW DATABASES\"\n",
    "            \n",
    "            cursor = db.cursor()\n",
    "            cursor.execute(sql)\n",
    "            for i in cursor:\n",
    "                print(i)\n",
    "            cursor.close()\n",
    "            db.close()\n",
    "        except Exception as e:\n",
    "            print(e, \"No database exists\")\n",
    "            \n",
    "    def create_table(self, db_name, table_name):\n",
    "        \n",
    "        try:\n",
    "            db = self.__db_conn(db_name=db_name)\n",
    "            sql = \"CREATE TABLE {}(id integer primary key auto_increment, name varchar(255), dept varchar(255))\".format(table_name)\n",
    "            cursor = db.cursor()\n",
    "            cursor.execute(sql)\n",
    "            cursor.close()\n",
    "            db.close()\n",
    "            print(table_name,\" Table created successfully\")\n",
    "        except Exception as e:\n",
    "            print(e, \"exception raise when create a table\")\n",
    "            \n",
    "    def insert_data_into_table(self, db_name, table_name, name, dept):\n",
    "        \n",
    "        try:\n",
    "            db = self.__db_conn(db_name=db_name)\n",
    "            sql = \"INSERT INTO {}(id, name, dept) VALUES(%s, %s, %s)\".format(table_name)\n",
    "            values = (0, name, dept)\n",
    "            cursor = db.cursor()\n",
    "            cursor.execute(sql, values)\n",
    "            db.commit()\n",
    "            cursor.close()\n",
    "            db.close()\n",
    "            print(\"data inserted successfully\")\n",
    "        except Exception as e:\n",
    "            print(e, \"exception raise when insert data\")\n",
    "            \n",
    "    def fecth_data_from_table(self, db_name, table_name):\n",
    "        \n",
    "        try:\n",
    "            db = self.__db_conn(db_name=db_name)\n",
    "            sql = \"SELECT * FROM {}\".format(table_name)\n",
    "            cursor = db.cursor()\n",
    "            cursor.execute(sql)\n",
    "            res = cursor.fetchall()\n",
    "            for i in res:\n",
    "                print(i)\n",
    "            cursor.close()\n",
    "            db.close()\n",
    "        except Exception as e:\n",
    "            print(e, \"exception raise when fetch data from table\")\n",
    "            \n",
    "    \n",
    "    def update_data_into_table(self, db_name, table_name, _id, name=\"\", dept=\"\"):\n",
    "        \n",
    "        Name, Dept = \"\", \"\"\n",
    "        try:\n",
    "            db = self.__db_conn(db_name=db_name)\n",
    "            sql = \"SELECT * FROM {} WHERE id={}\".format(table_name, _id)\n",
    "            cursor = db.cursor()\n",
    "            cursor.execute(sql)\n",
    "            res = cursor.fetchone()\n",
    "            Name, Dept = res[1], res[2]\n",
    "            print(Name, Dept)\n",
    "        except Exception as e:\n",
    "            print(e)\n",
    "        try:\n",
    "            db = self.__db_conn(db_name=db_name)\n",
    "            if name!=\"\" or dept!=\"\":\n",
    "                sql = \"UPDATE {}SET name={}, dept={} WHERE id={}, \".format(table_name, name, dept, _id)\n",
    "            values = (0, name, dept)\n",
    "            cursor = db.cursor()\n",
    "            cursor.execute(sql, values)\n",
    "            db.commit()\n",
    "            cursor.close()\n",
    "            db.close()\n",
    "            print(\"data inserted successfully\")\n",
    "        except Exception as e:\n",
    "            print(e, \"exception raise when insert data\")\n",
    "        \n",
    "    "
   ]
  },
  {
   "cell_type": "code",
   "execution_count": 52,
   "id": "9257a99e",
   "metadata": {},
   "outputs": [],
   "source": [
    "db_op = DBOperation()"
   ]
  },
  {
   "cell_type": "code",
   "execution_count": 34,
   "id": "032f183a",
   "metadata": {},
   "outputs": [
    {
     "name": "stdout",
     "output_type": "stream",
     "text": [
      "1007 (HY000): Can't create database 'college'; database exists exception raise when create a database\n"
     ]
    }
   ],
   "source": [
    "db_op.create_database(\"college\")"
   ]
  },
  {
   "cell_type": "code",
   "execution_count": 35,
   "id": "32a753e2",
   "metadata": {},
   "outputs": [
    {
     "name": "stdout",
     "output_type": "stream",
     "text": [
      "('college',)\n",
      "('edulector',)\n",
      "('employee',)\n",
      "('information_schema',)\n",
      "('mysql',)\n",
      "('onlinecourse',)\n",
      "('performance_schema',)\n",
      "('phpmyadmin',)\n",
      "('student',)\n",
      "('task',)\n",
      "('test',)\n"
     ]
    }
   ],
   "source": [
    "db_op.show_databases()"
   ]
  },
  {
   "cell_type": "code",
   "execution_count": 36,
   "id": "d758acb1",
   "metadata": {},
   "outputs": [
    {
     "name": "stdout",
     "output_type": "stream",
     "text": [
      "student  Table created successfully\n"
     ]
    }
   ],
   "source": [
    "db_op.create_table(\"college\", \"student\")"
   ]
  },
  {
   "cell_type": "code",
   "execution_count": 41,
   "id": "9c199420",
   "metadata": {},
   "outputs": [
    {
     "name": "stdout",
     "output_type": "stream",
     "text": [
      "data inserted successfully\n"
     ]
    }
   ],
   "source": [
    "db_op.insert_data_into_table(\"college\", \"student\", \"Atiq\", \"BBA\")"
   ]
  },
  {
   "cell_type": "code",
   "execution_count": 42,
   "id": "fb7ebb81",
   "metadata": {},
   "outputs": [
    {
     "name": "stdout",
     "output_type": "stream",
     "text": [
      "(1, 'Atiq', 'BBA')\n"
     ]
    }
   ],
   "source": [
    "db_op.fecth_data_from_table(\"college\", \"student\")"
   ]
  },
  {
   "cell_type": "code",
   "execution_count": 53,
   "id": "0fe58187",
   "metadata": {},
   "outputs": [
    {
     "name": "stdout",
     "output_type": "stream",
     "text": [
      "Atiq BBA\n"
     ]
    }
   ],
   "source": [
    "db_op.update_data_into_table(\"college\", \"student\", 1)"
   ]
  },
  {
   "cell_type": "code",
   "execution_count": null,
   "id": "7445293d",
   "metadata": {},
   "outputs": [],
   "source": []
  }
 ],
 "metadata": {
  "kernelspec": {
   "display_name": "Python 3 (ipykernel)",
   "language": "python",
   "name": "python3"
  },
  "language_info": {
   "codemirror_mode": {
    "name": "ipython",
    "version": 3
   },
   "file_extension": ".py",
   "mimetype": "text/x-python",
   "name": "python",
   "nbconvert_exporter": "python",
   "pygments_lexer": "ipython3",
   "version": "3.9.7"
  }
 },
 "nbformat": 4,
 "nbformat_minor": 5
}
