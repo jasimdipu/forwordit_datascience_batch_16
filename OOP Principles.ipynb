{
 "cells": [
  {
   "cell_type": "code",
   "execution_count": 1,
   "id": "aafc6b59",
   "metadata": {},
   "outputs": [],
   "source": [
    "# oop -> abstraction, encapsulation, inheritance, polymorphism"
   ]
  },
  {
   "cell_type": "markdown",
   "id": "ff61c9bc",
   "metadata": {},
   "source": [
    "# Abstraction"
   ]
  },
  {
   "cell_type": "code",
   "execution_count": 2,
   "id": "3701df40",
   "metadata": {},
   "outputs": [],
   "source": [
    "from abc import ABC, abstractmethod"
   ]
  },
  {
   "cell_type": "code",
   "execution_count": 23,
   "id": "e2f40f37",
   "metadata": {},
   "outputs": [],
   "source": [
    "# abstraction class (N.B. Abstraction class does not support object creation)\n",
    "class Student(ABC):\n",
    "    \n",
    "    @abstractmethod\n",
    "    def getname(self):\n",
    "        pass\n",
    "    \n",
    "    @abstractmethod\n",
    "    def setname(self, name):\n",
    "        pass\n",
    "    \n",
    "    @abstractmethod\n",
    "    def getdept(self):\n",
    "        pass\n",
    "\n",
    "    @abstractmethod\n",
    "    def setdept(self, dept):\n",
    "        pass\n",
    "    \n",
    "    def getsem(self):\n",
    "        pass"
   ]
  },
  {
   "cell_type": "code",
   "execution_count": 28,
   "id": "db3245fc",
   "metadata": {},
   "outputs": [],
   "source": [
    "class StudentImpl(Student):\n",
    "    \n",
    "    def __init__(self, name, dept):\n",
    "        self.name = name\n",
    "        self.dept = dept\n",
    "    \n",
    "    def getname(self):\n",
    "        return self.name\n",
    "    \n",
    "    def setname(self, name):\n",
    "        self.name = name\n",
    "    \n",
    "    def getdept(self):\n",
    "        return self.dept\n",
    "\n",
    "    def setdept(self, dept):\n",
    "        self.dept = dept\n",
    "        \n",
    "    def __str__(self):\n",
    "        return self.name+\" \"+self.dept"
   ]
  },
  {
   "cell_type": "code",
   "execution_count": 29,
   "id": "1e42ab64",
   "metadata": {},
   "outputs": [],
   "source": [
    "student = StudentImpl(\"Abu Adnan\", \"IT\")"
   ]
  },
  {
   "cell_type": "code",
   "execution_count": 30,
   "id": "a1673fa7",
   "metadata": {},
   "outputs": [
    {
     "data": {
      "text/plain": [
       "'Abu Adnan'"
      ]
     },
     "execution_count": 30,
     "metadata": {},
     "output_type": "execute_result"
    }
   ],
   "source": [
    "student.getname()"
   ]
  },
  {
   "cell_type": "code",
   "execution_count": 31,
   "id": "28146095",
   "metadata": {},
   "outputs": [
    {
     "data": {
      "text/plain": [
       "'IT'"
      ]
     },
     "execution_count": 31,
     "metadata": {},
     "output_type": "execute_result"
    }
   ],
   "source": [
    "student.getdept()"
   ]
  },
  {
   "cell_type": "code",
   "execution_count": 32,
   "id": "1c43038f",
   "metadata": {},
   "outputs": [
    {
     "name": "stdout",
     "output_type": "stream",
     "text": [
      "Abu Adnan IT\n"
     ]
    }
   ],
   "source": [
    "print(student)"
   ]
  },
  {
   "cell_type": "code",
   "execution_count": null,
   "id": "7529d73f",
   "metadata": {},
   "outputs": [],
   "source": [
    "# encapsulation -> private, protected, public"
   ]
  }
 ],
 "metadata": {
  "kernelspec": {
   "display_name": "Python 3 (ipykernel)",
   "language": "python",
   "name": "python3"
  },
  "language_info": {
   "codemirror_mode": {
    "name": "ipython",
    "version": 3
   },
   "file_extension": ".py",
   "mimetype": "text/x-python",
   "name": "python",
   "nbconvert_exporter": "python",
   "pygments_lexer": "ipython3",
   "version": "3.9.7"
  }
 },
 "nbformat": 4,
 "nbformat_minor": 5
}
