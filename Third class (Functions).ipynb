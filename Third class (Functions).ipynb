{
 "cells": [
  {
   "cell_type": "code",
   "execution_count": 7,
   "id": "bcbf5b83",
   "metadata": {},
   "outputs": [
    {
     "name": "stdout",
     "output_type": "stream",
     "text": [
      "30 found\n"
     ]
    }
   ],
   "source": [
    "l = [10, 20, 30, 40]\n",
    "n = 30\n",
    "for i in l:\n",
    "    if i == n:\n",
    "        print(\"{} found\".format(n))\n",
    "        break\n",
    "else:\n",
    "    print(\"not found\")"
   ]
  },
  {
   "cell_type": "code",
   "execution_count": 13,
   "id": "b30b5698",
   "metadata": {},
   "outputs": [],
   "source": [
    "def number_search(n):\n",
    "    l = [10, 20, 30, 40]\n",
    "    for i in l:\n",
    "        if i == n:\n",
    "            print(\"{} found\".format(n))\n",
    "            break\n",
    "    else:\n",
    "        print(\"{} not found or not in database\".format(n))"
   ]
  },
  {
   "cell_type": "code",
   "execution_count": 14,
   "id": "82e2fbce",
   "metadata": {},
   "outputs": [
    {
     "name": "stdout",
     "output_type": "stream",
     "text": [
      "50 not found or not in database\n"
     ]
    }
   ],
   "source": [
    "number_search(50)"
   ]
  },
  {
   "cell_type": "code",
   "execution_count": 17,
   "id": "8a5a2c69",
   "metadata": {},
   "outputs": [],
   "source": [
    "def add():\n",
    "    x = 400\n",
    "    y = 200\n",
    "    print(x+y)"
   ]
  },
  {
   "cell_type": "code",
   "execution_count": 18,
   "id": "a7781a33",
   "metadata": {},
   "outputs": [
    {
     "name": "stdout",
     "output_type": "stream",
     "text": [
      "600\n"
     ]
    }
   ],
   "source": [
    "add()"
   ]
  },
  {
   "cell_type": "code",
   "execution_count": 38,
   "id": "70fda883",
   "metadata": {},
   "outputs": [],
   "source": [
    "def add(x, y):\n",
    "    print(x+y)"
   ]
  },
  {
   "cell_type": "code",
   "execution_count": 40,
   "id": "df4ab931",
   "metadata": {},
   "outputs": [
    {
     "name": "stdout",
     "output_type": "stream",
     "text": [
      "30\n"
     ]
    }
   ],
   "source": [
    "add(10, 20)"
   ]
  },
  {
   "cell_type": "code",
   "execution_count": 47,
   "id": "52b676fb",
   "metadata": {},
   "outputs": [
    {
     "name": "stdout",
     "output_type": "stream",
     "text": [
      "30\n"
     ]
    },
    {
     "ename": "TypeError",
     "evalue": "unsupported operand type(s) for *: 'NoneType' and 'int'",
     "output_type": "error",
     "traceback": [
      "\u001b[1;31m---------------------------------------------------------------------------\u001b[0m",
      "\u001b[1;31mTypeError\u001b[0m                                 Traceback (most recent call last)",
      "\u001b[1;32m~\\AppData\\Local\\Temp/ipykernel_13600/714273898.py\u001b[0m in \u001b[0;36m<module>\u001b[1;34m\u001b[0m\n\u001b[1;32m----> 1\u001b[1;33m \u001b[0madd\u001b[0m\u001b[1;33m(\u001b[0m\u001b[1;36m10\u001b[0m\u001b[1;33m,\u001b[0m \u001b[1;36m20\u001b[0m\u001b[1;33m)\u001b[0m\u001b[1;33m*\u001b[0m\u001b[1;36m2\u001b[0m\u001b[1;33m\u001b[0m\u001b[1;33m\u001b[0m\u001b[0m\n\u001b[0m",
      "\u001b[1;31mTypeError\u001b[0m: unsupported operand type(s) for *: 'NoneType' and 'int'"
     ]
    }
   ],
   "source": [
    "add(10, 20)*2"
   ]
  },
  {
   "cell_type": "code",
   "execution_count": 41,
   "id": "58c6fb20",
   "metadata": {},
   "outputs": [
    {
     "name": "stdout",
     "output_type": "stream",
     "text": [
      "30\n"
     ]
    }
   ],
   "source": [
    "res = add(10, 20)"
   ]
  },
  {
   "cell_type": "code",
   "execution_count": 42,
   "id": "e1b9d02c",
   "metadata": {},
   "outputs": [],
   "source": [
    "res"
   ]
  },
  {
   "cell_type": "code",
   "execution_count": 43,
   "id": "99fb72f9",
   "metadata": {},
   "outputs": [],
   "source": [
    "def get_number(a):\n",
    "    return a"
   ]
  },
  {
   "cell_type": "code",
   "execution_count": 48,
   "id": "1fa27909",
   "metadata": {},
   "outputs": [
    {
     "data": {
      "text/plain": [
       "200"
      ]
     },
     "execution_count": 48,
     "metadata": {},
     "output_type": "execute_result"
    }
   ],
   "source": [
    "get_number(100)*2"
   ]
  },
  {
   "cell_type": "code",
   "execution_count": 44,
   "id": "c91bf8a8",
   "metadata": {},
   "outputs": [],
   "source": [
    "res = get_number(100)"
   ]
  },
  {
   "cell_type": "code",
   "execution_count": 49,
   "id": "af757679",
   "metadata": {},
   "outputs": [
    {
     "data": {
      "text/plain": [
       "50.0"
      ]
     },
     "execution_count": 49,
     "metadata": {},
     "output_type": "execute_result"
    }
   ],
   "source": [
    "res/2"
   ]
  },
  {
   "cell_type": "code",
   "execution_count": 50,
   "id": "223a455c",
   "metadata": {},
   "outputs": [],
   "source": [
    "def get_number(a, b, c):\n",
    "    return a, b, c"
   ]
  },
  {
   "cell_type": "code",
   "execution_count": 52,
   "id": "a20b1883",
   "metadata": {},
   "outputs": [
    {
     "data": {
      "text/plain": [
       "(10, 20, 30)"
      ]
     },
     "execution_count": 52,
     "metadata": {},
     "output_type": "execute_result"
    }
   ],
   "source": [
    "get_number(10, 20, 30)"
   ]
  },
  {
   "cell_type": "code",
   "execution_count": 53,
   "id": "3e6da83e",
   "metadata": {},
   "outputs": [],
   "source": [
    "x, y, z = get_number(100, 200, 300)"
   ]
  },
  {
   "cell_type": "code",
   "execution_count": 54,
   "id": "ca974640",
   "metadata": {},
   "outputs": [
    {
     "data": {
      "text/plain": [
       "100"
      ]
     },
     "execution_count": 54,
     "metadata": {},
     "output_type": "execute_result"
    }
   ],
   "source": [
    "x"
   ]
  },
  {
   "cell_type": "code",
   "execution_count": 55,
   "id": "fb0740f3",
   "metadata": {},
   "outputs": [
    {
     "data": {
      "text/plain": [
       "200"
      ]
     },
     "execution_count": 55,
     "metadata": {},
     "output_type": "execute_result"
    }
   ],
   "source": [
    "y"
   ]
  },
  {
   "cell_type": "code",
   "execution_count": 56,
   "id": "a9b9f4a0",
   "metadata": {},
   "outputs": [
    {
     "data": {
      "text/plain": [
       "300"
      ]
     },
     "execution_count": 56,
     "metadata": {},
     "output_type": "execute_result"
    }
   ],
   "source": [
    "z"
   ]
  },
  {
   "cell_type": "code",
   "execution_count": 57,
   "id": "6ce18fe1",
   "metadata": {},
   "outputs": [
    {
     "name": "stdout",
     "output_type": "stream",
     "text": [
      "10\n",
      "20\n",
      "30\n"
     ]
    }
   ],
   "source": [
    "for i in get_number(10, 20, 30):\n",
    "    print(i)"
   ]
  },
  {
   "cell_type": "code",
   "execution_count": 58,
   "id": "d80985e6",
   "metadata": {},
   "outputs": [],
   "source": [
    "x = get_number(10, 20, 30)"
   ]
  },
  {
   "cell_type": "code",
   "execution_count": 59,
   "id": "268598cc",
   "metadata": {},
   "outputs": [
    {
     "data": {
      "text/plain": [
       "(10, 20, 30)"
      ]
     },
     "execution_count": 59,
     "metadata": {},
     "output_type": "execute_result"
    }
   ],
   "source": [
    "x"
   ]
  },
  {
   "cell_type": "code",
   "execution_count": 60,
   "id": "26e1d507",
   "metadata": {},
   "outputs": [
    {
     "name": "stdout",
     "output_type": "stream",
     "text": [
      "10\n",
      "20\n",
      "30\n"
     ]
    }
   ],
   "source": [
    "for i in x:\n",
    "    print(i)"
   ]
  },
  {
   "cell_type": "code",
   "execution_count": 63,
   "id": "22a94a5d",
   "metadata": {},
   "outputs": [],
   "source": [
    "def get_number_2(a=0, b=2, c=4):\n",
    "    return a, b, c"
   ]
  },
  {
   "cell_type": "code",
   "execution_count": 64,
   "id": "1e409336",
   "metadata": {},
   "outputs": [
    {
     "data": {
      "text/plain": [
       "(0, 2, 4)"
      ]
     },
     "execution_count": 64,
     "metadata": {},
     "output_type": "execute_result"
    }
   ],
   "source": [
    "get_number_2()"
   ]
  },
  {
   "cell_type": "code",
   "execution_count": 65,
   "id": "3161587c",
   "metadata": {},
   "outputs": [
    {
     "data": {
      "text/plain": [
       "(50, 80, 40)"
      ]
     },
     "execution_count": 65,
     "metadata": {},
     "output_type": "execute_result"
    }
   ],
   "source": [
    "get_number_2(50, 80, 40)"
   ]
  },
  {
   "cell_type": "code",
   "execution_count": 68,
   "id": "c60bc223",
   "metadata": {},
   "outputs": [],
   "source": [
    "def get_collection(*numbers):\n",
    "    return numbers"
   ]
  },
  {
   "cell_type": "code",
   "execution_count": 69,
   "id": "e23ddfa9",
   "metadata": {},
   "outputs": [
    {
     "data": {
      "text/plain": [
       "(100, 200, 300, 400, 500)"
      ]
     },
     "execution_count": 69,
     "metadata": {},
     "output_type": "execute_result"
    }
   ],
   "source": [
    "get_collection(100, 200, 300, 400, 500)"
   ]
  },
  {
   "cell_type": "code",
   "execution_count": 72,
   "id": "cfd579c2",
   "metadata": {},
   "outputs": [],
   "source": [
    "def get_collection(*numbers):\n",
    "    # type casting\n",
    "    l = list(numbers)\n",
    "    return l"
   ]
  },
  {
   "cell_type": "code",
   "execution_count": 73,
   "id": "1bb5a5e3",
   "metadata": {},
   "outputs": [
    {
     "data": {
      "text/plain": [
       "[100, 200, 300, 400, 500]"
      ]
     },
     "execution_count": 73,
     "metadata": {},
     "output_type": "execute_result"
    }
   ],
   "source": [
    "get_collection(100, 200, 300, 400, 500)"
   ]
  },
  {
   "cell_type": "code",
   "execution_count": 74,
   "id": "b102b3fd",
   "metadata": {},
   "outputs": [],
   "source": [
    "def get_info(**infos):\n",
    "    return infos"
   ]
  },
  {
   "cell_type": "code",
   "execution_count": 75,
   "id": "f02549b4",
   "metadata": {},
   "outputs": [
    {
     "data": {
      "text/plain": [
       "{'name': 'Alom', 'dept': 'CSE'}"
      ]
     },
     "execution_count": 75,
     "metadata": {},
     "output_type": "execute_result"
    }
   ],
   "source": [
    "get_info(name=\"Alom\", dept=\"CSE\")"
   ]
  },
  {
   "cell_type": "code",
   "execution_count": 82,
   "id": "446ab21c",
   "metadata": {},
   "outputs": [],
   "source": [
    "def get_all_values(a, *args, **kwargs):\n",
    "    return a, args, kwargs"
   ]
  },
  {
   "cell_type": "code",
   "execution_count": 83,
   "id": "5aa7f494",
   "metadata": {},
   "outputs": [
    {
     "data": {
      "text/plain": [
       "(10, (20, 30), {'name': 'alom'})"
      ]
     },
     "execution_count": 83,
     "metadata": {},
     "output_type": "execute_result"
    }
   ],
   "source": [
    "get_all_values(10, 20, 30, name=\"alom\")"
   ]
  },
  {
   "cell_type": "code",
   "execution_count": 88,
   "id": "18d9e9b7",
   "metadata": {},
   "outputs": [],
   "source": [
    "def function1():\n",
    "    def function2():\n",
    "        return \"Inner Function\"\n",
    "    return \"Outer function\", function2()"
   ]
  },
  {
   "cell_type": "code",
   "execution_count": 89,
   "id": "e50675d6",
   "metadata": {},
   "outputs": [
    {
     "data": {
      "text/plain": [
       "('Outer function', 'Inner Function')"
      ]
     },
     "execution_count": 89,
     "metadata": {},
     "output_type": "execute_result"
    }
   ],
   "source": [
    "function1()"
   ]
  },
  {
   "cell_type": "code",
   "execution_count": 91,
   "id": "1d543fd0",
   "metadata": {},
   "outputs": [
    {
     "ename": "NameError",
     "evalue": "name 'function2' is not defined",
     "output_type": "error",
     "traceback": [
      "\u001b[1;31m---------------------------------------------------------------------------\u001b[0m",
      "\u001b[1;31mNameError\u001b[0m                                 Traceback (most recent call last)",
      "\u001b[1;32m~\\AppData\\Local\\Temp/ipykernel_13600/3458124456.py\u001b[0m in \u001b[0;36m<module>\u001b[1;34m\u001b[0m\n\u001b[1;32m----> 1\u001b[1;33m \u001b[0mfunction2\u001b[0m\u001b[1;33m(\u001b[0m\u001b[1;33m)\u001b[0m\u001b[1;33m\u001b[0m\u001b[1;33m\u001b[0m\u001b[0m\n\u001b[0m",
      "\u001b[1;31mNameError\u001b[0m: name 'function2' is not defined"
     ]
    }
   ],
   "source": [
    "function2()"
   ]
  },
  {
   "cell_type": "code",
   "execution_count": 94,
   "id": "95bfad35",
   "metadata": {},
   "outputs": [],
   "source": [
    "def function1(args):\n",
    "    def function2(args):\n",
    "        return args\n",
    "    return \"Outer function\", function2(args)"
   ]
  },
  {
   "cell_type": "code",
   "execution_count": 95,
   "id": "1fa1bb09",
   "metadata": {},
   "outputs": [
    {
     "data": {
      "text/plain": [
       "('Outer function', 100)"
      ]
     },
     "execution_count": 95,
     "metadata": {},
     "output_type": "execute_result"
    }
   ],
   "source": [
    "function1(100)"
   ]
  },
  {
   "cell_type": "code",
   "execution_count": 96,
   "id": "40ef2c6e",
   "metadata": {},
   "outputs": [],
   "source": [
    "def function1(number, args):\n",
    "    def function2(args):\n",
    "        return args\n",
    "    res = function2(args)\n",
    "    res = res*number\n",
    "    return \"Outer function\", res"
   ]
  },
  {
   "cell_type": "code",
   "execution_count": 97,
   "id": "d1909217",
   "metadata": {},
   "outputs": [
    {
     "data": {
      "text/plain": [
       "('Outer function', 1000)"
      ]
     },
     "execution_count": 97,
     "metadata": {},
     "output_type": "execute_result"
    }
   ],
   "source": [
    "function1(100, 10)"
   ]
  },
  {
   "cell_type": "code",
   "execution_count": 98,
   "id": "b6dbeac3",
   "metadata": {},
   "outputs": [],
   "source": [
    "def set_function(number):\n",
    "    return number"
   ]
  },
  {
   "cell_type": "code",
   "execution_count": 99,
   "id": "a7110c81",
   "metadata": {},
   "outputs": [
    {
     "data": {
      "text/plain": [
       "100"
      ]
     },
     "execution_count": 99,
     "metadata": {},
     "output_type": "execute_result"
    }
   ],
   "source": [
    "set_function(100)"
   ]
  },
  {
   "cell_type": "code",
   "execution_count": 100,
   "id": "ae9174cd",
   "metadata": {},
   "outputs": [],
   "source": [
    "another_set_function = set_function"
   ]
  },
  {
   "cell_type": "code",
   "execution_count": 101,
   "id": "8b6f09ee",
   "metadata": {},
   "outputs": [
    {
     "data": {
      "text/plain": [
       "1000"
      ]
     },
     "execution_count": 101,
     "metadata": {},
     "output_type": "execute_result"
    }
   ],
   "source": [
    "another_set_function(1000)"
   ]
  },
  {
   "cell_type": "code",
   "execution_count": 107,
   "id": "aa4fabe8",
   "metadata": {},
   "outputs": [],
   "source": [
    "def tour(choice):\n",
    "    \n",
    "    def summer():\n",
    "        return \"Dubai\"\n",
    "    \n",
    "    def winter():\n",
    "        return \"Russhia\"\n",
    "    \n",
    "    def spring():\n",
    "        return \"Bangladesh\"\n",
    "    \n",
    "    if choice == \"summer\":\n",
    "        return summer()\n",
    "    elif choice == \"winter\":\n",
    "        return winter()\n",
    "    elif choice == \"spring\":\n",
    "        return spring()\n",
    "    else:\n",
    "        return \"Please choice any season like 'summer' or 'winter' or 'spring'\""
   ]
  },
  {
   "cell_type": "code",
   "execution_count": 109,
   "id": "83e75f33",
   "metadata": {},
   "outputs": [
    {
     "data": {
      "text/plain": [
       "'Bangladesh'"
      ]
     },
     "execution_count": 109,
     "metadata": {},
     "output_type": "execute_result"
    }
   ],
   "source": [
    "tour(\"spring\")"
   ]
  },
  {
   "cell_type": "markdown",
   "id": "06943739",
   "metadata": {},
   "source": [
    "# Lambda"
   ]
  },
  {
   "cell_type": "code",
   "execution_count": 110,
   "id": "dd4c9f86",
   "metadata": {},
   "outputs": [],
   "source": [
    "get_number = lambda number: number"
   ]
  },
  {
   "cell_type": "code",
   "execution_count": 111,
   "id": "288c8fb4",
   "metadata": {},
   "outputs": [
    {
     "data": {
      "text/plain": [
       "100"
      ]
     },
     "execution_count": 111,
     "metadata": {},
     "output_type": "execute_result"
    }
   ],
   "source": [
    "get_number(100)"
   ]
  },
  {
   "cell_type": "code",
   "execution_count": 112,
   "id": "301546d3",
   "metadata": {},
   "outputs": [],
   "source": [
    "def get_num(number):\n",
    "    return number"
   ]
  },
  {
   "cell_type": "code",
   "execution_count": 113,
   "id": "33e7e1bf",
   "metadata": {},
   "outputs": [
    {
     "data": {
      "text/plain": [
       "100"
      ]
     },
     "execution_count": 113,
     "metadata": {},
     "output_type": "execute_result"
    }
   ],
   "source": [
    "get_num(100)"
   ]
  },
  {
   "cell_type": "code",
   "execution_count": 114,
   "id": "fde1580e",
   "metadata": {},
   "outputs": [],
   "source": [
    "result = lambda x, y: x*y"
   ]
  },
  {
   "cell_type": "code",
   "execution_count": 115,
   "id": "86bfbd83",
   "metadata": {},
   "outputs": [
    {
     "data": {
      "text/plain": [
       "100"
      ]
     },
     "execution_count": 115,
     "metadata": {},
     "output_type": "execute_result"
    }
   ],
   "source": [
    "result(10, 10)"
   ]
  },
  {
   "cell_type": "code",
   "execution_count": 116,
   "id": "59718264",
   "metadata": {},
   "outputs": [],
   "source": [
    "result = lambda x, y: x*y if x==y else x+y"
   ]
  },
  {
   "cell_type": "code",
   "execution_count": 118,
   "id": "f6b04866",
   "metadata": {},
   "outputs": [
    {
     "data": {
      "text/plain": [
       "40"
      ]
     },
     "execution_count": 118,
     "metadata": {},
     "output_type": "execute_result"
    }
   ],
   "source": [
    "result(10, 30)"
   ]
  },
  {
   "cell_type": "code",
   "execution_count": null,
   "id": "7c0f6eca",
   "metadata": {},
   "outputs": [],
   "source": [
    "def result(a, x):\n",
    "    if a==x:\n",
    "        return a*x\n",
    "    else:\n",
    "        return a+x"
   ]
  }
 ],
 "metadata": {
  "kernelspec": {
   "display_name": "Python 3 (ipykernel)",
   "language": "python",
   "name": "python3"
  },
  "language_info": {
   "codemirror_mode": {
    "name": "ipython",
    "version": 3
   },
   "file_extension": ".py",
   "mimetype": "text/x-python",
   "name": "python",
   "nbconvert_exporter": "python",
   "pygments_lexer": "ipython3",
   "version": "3.9.7"
  }
 },
 "nbformat": 4,
 "nbformat_minor": 5
}
